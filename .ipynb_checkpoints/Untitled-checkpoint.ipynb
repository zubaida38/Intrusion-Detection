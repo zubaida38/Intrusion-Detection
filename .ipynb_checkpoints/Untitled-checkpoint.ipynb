{
 "cells": [
  {
   "cell_type": "code",
   "execution_count": 1,
   "id": "4e1fc288",
   "metadata": {},
   "outputs": [
    {
     "ename": "OSError",
     "evalue": "[WinError 10022] An invalid argument was supplied",
     "output_type": "error",
     "traceback": [
      "\u001b[1;31m---------------------------------------------------------------------------\u001b[0m",
      "\u001b[1;31mOSError\u001b[0m                                   Traceback (most recent call last)",
      "Input \u001b[1;32mIn [1]\u001b[0m, in \u001b[0;36m<cell line: 36>\u001b[1;34m()\u001b[0m\n\u001b[0;32m     34\u001b[0m       \u001b[38;5;28mprint\u001b[39m(\u001b[38;5;124m'\u001b[39m\u001b[38;5;124mdst_port: \u001b[39m\u001b[38;5;124m'\u001b[39m \u001b[38;5;241m+\u001b[39m \u001b[38;5;28mstr\u001b[39m(dst_port))\n\u001b[0;32m     36\u001b[0m \u001b[38;5;28;01mif\u001b[39;00m \u001b[38;5;18m__name__\u001b[39m \u001b[38;5;241m==\u001b[39m \u001b[38;5;124m'\u001b[39m\u001b[38;5;124m__main__\u001b[39m\u001b[38;5;124m'\u001b[39m:\n\u001b[1;32m---> 37\u001b[0m   \u001b[43mmain\u001b[49m\u001b[43m(\u001b[49m\u001b[43m)\u001b[49m\n",
      "Input \u001b[1;32mIn [1]\u001b[0m, in \u001b[0;36mmain\u001b[1;34m()\u001b[0m\n\u001b[0;32m     12\u001b[0m \u001b[38;5;66;03m# Start capturing packets\u001b[39;00m\n\u001b[0;32m     13\u001b[0m \u001b[38;5;28;01mwhile\u001b[39;00m \u001b[38;5;28;01mTrue\u001b[39;00m:\n\u001b[1;32m---> 14\u001b[0m   packet \u001b[38;5;241m=\u001b[39m \u001b[43ms\u001b[49m\u001b[38;5;241;43m.\u001b[39;49m\u001b[43mrecvfrom\u001b[49m\u001b[43m(\u001b[49m\u001b[38;5;241;43m65535\u001b[39;49m\u001b[43m)\u001b[49m\n\u001b[0;32m     15\u001b[0m   packet \u001b[38;5;241m=\u001b[39m packet[\u001b[38;5;241m0\u001b[39m]\n\u001b[0;32m     17\u001b[0m   \u001b[38;5;66;03m# Parse the IP header\u001b[39;00m\n",
      "\u001b[1;31mOSError\u001b[0m: [WinError 10022] An invalid argument was supplied"
     ]
    }
   ],
   "source": [
    "import socket\n",
    "from struct import *\n",
    "\n",
    "def main():\n",
    "  # Create a socket\n",
    "  s = socket.socket(socket.AF_INET, socket.SOCK_RAW, socket.IPPROTO_TCP)\n",
    "\n",
    "  # Set the socket to capture packets on ports 8000 and 22\n",
    "  s.setsockopt(socket.SOL_SOCKET, socket.SO_RCVBUF, 65535)\n",
    "  s.setsockopt(socket.IPPROTO_IP, socket.IP_HDRINCL, 1)\n",
    "\n",
    "  # Start capturing packets\n",
    "  while True:\n",
    "    packet = s.recvfrom(65535)\n",
    "    packet = packet[0]\n",
    "\n",
    "    # Parse the IP header\n",
    "    ip_header = packet[0:20]\n",
    "    iph = unpack('!BBHHHBBH4s4s', ip_header)\n",
    "    ip_src = socket.inet_ntoa(iph[8])\n",
    "    ip_dst = socket.inet_ntoa(iph[9])\n",
    "\n",
    "    # Parse the TCP header\n",
    "    tcp_header = packet[20:40]\n",
    "    tcp_h = unpack('!HHLLBBHHH', tcp_header)\n",
    "    src_port = tcp_h[0]\n",
    "    dst_port = tcp_h[1]\n",
    "\n",
    "    # Print the packet information\n",
    "    if dst_port == 8000 or dst_port == 22:\n",
    "      print('ip_src : ' + ip_src)\n",
    "      print('ip_dst : ' + ip_dst)\n",
    "      print('src_port: ' + str(src_port))\n",
    "      print('dst_port: ' + str(dst_port))\n",
    "\n",
    "if __name__ == '__main__':\n",
    "  main()\n"
   ]
  },
  {
   "cell_type": "code",
   "execution_count": 2,
   "id": "3be98b47",
   "metadata": {},
   "outputs": [
    {
     "ename": "AttributeError",
     "evalue": "module 'socket' has no attribute 'AF_PACKET'",
     "output_type": "error",
     "traceback": [
      "\u001b[1;31m---------------------------------------------------------------------------\u001b[0m",
      "\u001b[1;31mAttributeError\u001b[0m                            Traceback (most recent call last)",
      "Input \u001b[1;32mIn [2]\u001b[0m, in \u001b[0;36m<cell line: 53>\u001b[1;34m()\u001b[0m\n\u001b[0;32m     50\u001b[0m     raw_socket\u001b[38;5;241m.\u001b[39mclose()\n\u001b[0;32m     52\u001b[0m \u001b[38;5;66;03m# Start capturing packets\u001b[39;00m\n\u001b[1;32m---> 53\u001b[0m \u001b[43mcapture_packets\u001b[49m\u001b[43m(\u001b[49m\u001b[43m)\u001b[49m\n",
      "Input \u001b[1;32mIn [2]\u001b[0m, in \u001b[0;36mcapture_packets\u001b[1;34m()\u001b[0m\n\u001b[0;32m      4\u001b[0m \u001b[38;5;28;01mdef\u001b[39;00m \u001b[38;5;21mcapture_packets\u001b[39m():\n\u001b[0;32m      5\u001b[0m     \u001b[38;5;66;03m# Create a raw socket\u001b[39;00m\n\u001b[0;32m      6\u001b[0m     \u001b[38;5;28;01mtry\u001b[39;00m:\n\u001b[1;32m----> 7\u001b[0m         raw_socket \u001b[38;5;241m=\u001b[39m socket\u001b[38;5;241m.\u001b[39msocket(\u001b[43msocket\u001b[49m\u001b[38;5;241;43m.\u001b[39;49m\u001b[43mAF_PACKET\u001b[49m, socket\u001b[38;5;241m.\u001b[39mSOCK_RAW, socket\u001b[38;5;241m.\u001b[39mntohs(\u001b[38;5;241m3\u001b[39m))\n\u001b[0;32m      8\u001b[0m     \u001b[38;5;28;01mexcept\u001b[39;00m socket\u001b[38;5;241m.\u001b[39merror \u001b[38;5;28;01mas\u001b[39;00m e:\n\u001b[0;32m      9\u001b[0m         \u001b[38;5;28mprint\u001b[39m(\u001b[38;5;124mf\u001b[39m\u001b[38;5;124m\"\u001b[39m\u001b[38;5;124mFailed to create raw socket: \u001b[39m\u001b[38;5;132;01m{\u001b[39;00me\u001b[38;5;132;01m}\u001b[39;00m\u001b[38;5;124m\"\u001b[39m)\n",
      "\u001b[1;31mAttributeError\u001b[0m: module 'socket' has no attribute 'AF_PACKET'"
     ]
    }
   ],
   "source": [
    "import socket\n",
    "import struct\n",
    "\n",
    "def capture_packets():\n",
    "    # Create a raw socket\n",
    "    try:\n",
    "        \n",
    "        raw_socket = socket.socket(socket.AF_INET, socket.SOCK_RAW, socket.IPPROTO_TCP)#socket.socket(socket.AF_PACKET, socket.SOCK_RAW, socket.ntohs(3))\n",
    "    except socket.error as e:\n",
    "        print(f\"Failed to create raw socket: {e}\")\n",
    "        return\n",
    "    \n",
    "    # Set the socket to promiscuous mode\n",
    "    raw_socket.bind(('eth0', 0))\n",
    "    \n",
    "    try:\n",
    "        while True:\n",
    "            packet = raw_socket.recvfrom(65565)\n",
    "            \n",
    "            # Extract the Ethernet header\n",
    "            ethernet_header = packet[0][0:14]\n",
    "            eth_header = struct.unpack('!6s6sH', ethernet_header)\n",
    "            eth_protocol = socket.ntohs(eth_header[2])\n",
    "            \n",
    "            # Check if the packet is an IP packet\n",
    "            if eth_protocol == 8:\n",
    "                ip_header = packet[0][14:34]\n",
    "                \n",
    "                # Extract the source and destination IP addresses\n",
    "                iph = struct.unpack('!BBHHHBBH4s4s', ip_header)\n",
    "                source_ip = socket.inet_ntoa(iph[8])\n",
    "                dest_ip = socket.inet_ntoa(iph[9])\n",
    "                \n",
    "                # Check if the packet is a TCP packet\n",
    "                if iph[6] == 6:\n",
    "                    tcp_header = packet[0][34:54]\n",
    "                    \n",
    "                    # Extract the source and destination ports\n",
    "                    tcph = struct.unpack('!HHLLBBHHH', tcp_header)\n",
    "                    source_port = tcph[0]\n",
    "                    dest_port = tcph[1]\n",
    "                    \n",
    "                    # Check if the packet is from port 22 or 8000\n",
    "                    if source_port == 22 or source_port == 8000:\n",
    "                        print(f\"Packet from {source_ip}:{source_port} to {dest_ip}:{dest_port}\")\n",
    "    \n",
    "    except KeyboardInterrupt:\n",
    "        print(\"Capture stopped by user.\")\n",
    "    \n",
    "    # Close the raw socket\n",
    "    raw_socket.close()\n",
    "\n",
    "# Start capturing packets\n",
    "capture_packets()\n"
   ]
  },
  {
   "cell_type": "code",
   "execution_count": null,
   "id": "f4d89bc3",
   "metadata": {},
   "outputs": [],
   "source": []
  }
 ],
 "metadata": {
  "kernelspec": {
   "display_name": "Python 3 (ipykernel)",
   "language": "python",
   "name": "python3"
  },
  "language_info": {
   "codemirror_mode": {
    "name": "ipython",
    "version": 3
   },
   "file_extension": ".py",
   "mimetype": "text/x-python",
   "name": "python",
   "nbconvert_exporter": "python",
   "pygments_lexer": "ipython3",
   "version": "3.9.12"
  }
 },
 "nbformat": 4,
 "nbformat_minor": 5
}
