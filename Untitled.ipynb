{
 "cells": [
  {
   "cell_type": "code",
   "execution_count": 1,
   "id": "4e1fc288",
   "metadata": {},
   "outputs": [
    {
     "ename": "OSError",
     "evalue": "[WinError 10022] An invalid argument was supplied",
     "output_type": "error",
     "traceback": [
      "\u001b[1;31m---------------------------------------------------------------------------\u001b[0m",
      "\u001b[1;31mOSError\u001b[0m                                   Traceback (most recent call last)",
      "Input \u001b[1;32mIn [1]\u001b[0m, in \u001b[0;36m<cell line: 36>\u001b[1;34m()\u001b[0m\n\u001b[0;32m     34\u001b[0m       \u001b[38;5;28mprint\u001b[39m(\u001b[38;5;124m'\u001b[39m\u001b[38;5;124mdst_port: \u001b[39m\u001b[38;5;124m'\u001b[39m \u001b[38;5;241m+\u001b[39m \u001b[38;5;28mstr\u001b[39m(dst_port))\n\u001b[0;32m     36\u001b[0m \u001b[38;5;28;01mif\u001b[39;00m \u001b[38;5;18m__name__\u001b[39m \u001b[38;5;241m==\u001b[39m \u001b[38;5;124m'\u001b[39m\u001b[38;5;124m__main__\u001b[39m\u001b[38;5;124m'\u001b[39m:\n\u001b[1;32m---> 37\u001b[0m   \u001b[43mmain\u001b[49m\u001b[43m(\u001b[49m\u001b[43m)\u001b[49m\n",
      "Input \u001b[1;32mIn [1]\u001b[0m, in \u001b[0;36mmain\u001b[1;34m()\u001b[0m\n\u001b[0;32m     12\u001b[0m \u001b[38;5;66;03m# Start capturing packets\u001b[39;00m\n\u001b[0;32m     13\u001b[0m \u001b[38;5;28;01mwhile\u001b[39;00m \u001b[38;5;28;01mTrue\u001b[39;00m:\n\u001b[1;32m---> 14\u001b[0m   packet \u001b[38;5;241m=\u001b[39m \u001b[43ms\u001b[49m\u001b[38;5;241;43m.\u001b[39;49m\u001b[43mrecvfrom\u001b[49m\u001b[43m(\u001b[49m\u001b[38;5;241;43m65535\u001b[39;49m\u001b[43m)\u001b[49m\n\u001b[0;32m     15\u001b[0m   packet \u001b[38;5;241m=\u001b[39m packet[\u001b[38;5;241m0\u001b[39m]\n\u001b[0;32m     17\u001b[0m   \u001b[38;5;66;03m# Parse the IP header\u001b[39;00m\n",
      "\u001b[1;31mOSError\u001b[0m: [WinError 10022] An invalid argument was supplied"
     ]
    }
   ],
   "source": [
    "import socket\n",
    "from struct import *\n",
    "\n",
    "def main():\n",
    "  # Create a socket\n",
    "  s = socket.socket(socket.AF_INET, socket.SOCK_RAW, socket.IPPROTO_TCP)\n",
    "\n",
    "  # Set the socket to capture packets on ports 8000 and 22\n",
    "  s.setsockopt(socket.SOL_SOCKET, socket.SO_RCVBUF, 65535)\n",
    "  s.setsockopt(socket.IPPROTO_IP, socket.IP_HDRINCL, 1)\n",
    "\n",
    "  # Start capturing packets\n",
    "  while True:\n",
    "    packet = s.recvfrom(65535)\n",
    "    packet = packet[0]\n",
    "\n",
    "    # Parse the IP header\n",
    "    ip_header = packet[0:20]\n",
    "    iph = unpack('!BBHHHBBH4s4s', ip_header)\n",
    "    ip_src = socket.inet_ntoa(iph[8])\n",
    "    ip_dst = socket.inet_ntoa(iph[9])\n",
    "\n",
    "    # Parse the TCP header\n",
    "    tcp_header = packet[20:40]\n",
    "    tcp_h = unpack('!HHLLBBHHH', tcp_header)\n",
    "    src_port = tcp_h[0]\n",
    "    dst_port = tcp_h[1]\n",
    "\n",
    "    # Print the packet information\n",
    "    if dst_port == 8000 or dst_port == 22:\n",
    "      print('ip_src : ' + ip_src)\n",
    "      print('ip_dst : ' + ip_dst)\n",
    "      print('src_port: ' + str(src_port))\n",
    "      print('dst_port: ' + str(dst_port))\n",
    "\n",
    "if __name__ == '__main__':\n",
    "  main()\n"
   ]
  },
  {
   "cell_type": "code",
   "execution_count": null,
   "id": "3be98b47",
   "metadata": {},
   "outputs": [],
   "source": [
    "import scapy.all as scapy\n",
    "\n",
    "def main():\n",
    "  # Create a sniffer object\n",
    "  sniffer = scapy.sniff(filter=\"port 8000 or port 22\")\n",
    "\n",
    "  # Start capturing packets\n",
    "  while True:\n",
    "    packet = sniffer.next()\n",
    "\n",
    "    # Print the packet information\n",
    "    print(packet.summary())\n",
    "\n",
    "if __name__ == \"__main__\":\n",
    "  main()\n"
   ]
  },
  {
   "cell_type": "code",
   "execution_count": null,
   "id": "074d35ed",
   "metadata": {},
   "outputs": [],
   "source": [
    "import scapy.all as scapy\n",
    "\n",
    "def main():\n",
    "  # Create a sniffer object\n",
    "  sniffer = scapy.sniff(filter=\"src host 142.250.181.14\")\n",
    "\n",
    "  # Start capturing packets\n",
    "  while True:\n",
    "    packet = sniffer.next()\n",
    "\n",
    "    # Print the packet information\n",
    "    print(packet.summary())\n",
    "\n",
    "if __name__ == \"__main__\":\n",
    "  main()\n"
   ]
  },
  {
   "cell_type": "code",
   "execution_count": null,
   "id": "938859b9",
   "metadata": {},
   "outputs": [],
   "source": [
    "import scapy.all as scapy\n",
    "\n",
    "def main():\n",
    "  # Create a sniffer object\n",
    "  sniffer = scapy.sniff(filter=\"\", prn=print_packet_info)\n",
    "\n",
    "  # Start capturing packets\n",
    "  while True:\n",
    "    pass\n",
    "\n",
    "def print_packet_info(packet):\n",
    "  # Print the packet information\n",
    "  print(\"Source:\", packet[IP].src)\n",
    "  print(\"Destination:\", packet[IP].dst)\n",
    "  print(\"Protocol:\", packet[IP].proto)\n",
    "  print(\"TCP Sequence Number:\", packet[TCP].seq)\n",
    "  print(\"TCP Acknowledgement Number:\", packet[TCP].ack)\n",
    "\n",
    "if __name__ == \"__main__\":\n",
    "  main()\n"
   ]
  },
  {
   "cell_type": "code",
   "execution_count": null,
   "id": "b4fd09ef",
   "metadata": {},
   "outputs": [],
   "source": []
  }
 ],
 "metadata": {
  "kernelspec": {
   "display_name": "Python 3 (ipykernel)",
   "language": "python",
   "name": "python3"
  },
  "language_info": {
   "codemirror_mode": {
    "name": "ipython",
    "version": 3
   },
   "file_extension": ".py",
   "mimetype": "text/x-python",
   "name": "python",
   "nbconvert_exporter": "python",
   "pygments_lexer": "ipython3",
   "version": "3.9.12"
  }
 },
 "nbformat": 4,
 "nbformat_minor": 5
}
